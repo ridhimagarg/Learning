{
 "cells": [
  {
   "cell_type": "markdown",
   "metadata": {},
   "source": [
    "## E-commerce Navigation Tree\n",
    "It is fully dynamic. You can add any no. of nodes in a tree and traverse the whole tree using commands/functions here for this \n",
    "implementation like -:\n",
    "<b>\n",
    "  1. Tree()(initializer/constructor function of a class)-> function for creating a mode. which takes 2 parameters\n",
    "            a. data of node.\n",
    "            b. code with associated node. \n",
    "  2. add_child() -> function for adding child to a perticular node. Takes 2 objects-:\n",
    "            a. Parent node\n",
    "            b. Child node\n",
    "  3. node_with_code() -> Traverse the tree upto the specified code node. It takes code of the node as a parameter.\n",
    "    \n",
    "  4. move_back() -> It moves the user back upto certain(given) level. It takes level(num) as a parameter. By default level =1.\n",
    "  \n",
    "  5. goto() -> goto a certain level by giving num as a parameter </b>"
   ]
  },
  {
   "cell_type": "code",
   "execution_count": 1,
   "metadata": {},
   "outputs": [],
   "source": [
    "## global variable for accessing the current Tree\n",
    "current = None\n",
    "## list of visted Trees till now \n",
    "## which path we followed\n",
    "l = []\n",
    "\n",
    "\n",
    "## Creating class(Tree) for making nodes and adding childrens.\n",
    "## Also traversing tree using commands.\n",
    "## Here for every command I created functions.\n",
    "\n",
    "class Tree(object):\n",
    "    \n",
    "    \"\"\"Constructor functions called when class is called\n",
    "     Parameterized constructor taking data and code of a creating node\"\"\"\n",
    "    \n",
    "    def __init__(self, data, code):\n",
    "        \n",
    "        ## Storing code of the created data into current created object\n",
    "        self.code = code\n",
    "        \n",
    "        ## Storing data of the created data into current created object\n",
    "        self.data = data\n",
    "        \n",
    "        ## Till there are no children of a newly created node [] list.\n",
    "        self.children = []\n",
    "        \n",
    "        \n",
    "        \n",
    "\n",
    "    \"\"\" Child function i.e, to add a child to a particular node of a tree\n",
    "        self-> current object to which child should be added.\n",
    "        obj-> child object should be added as a child to self object.\"\"\"\n",
    "    \n",
    "    def add_child(self, obj):\n",
    "        \n",
    "        ## Adding obj as a child to self\n",
    "        self.children.append(obj)\n",
    "        \n",
    "        \n",
    "        \n",
    "        \n",
    "    \n",
    "    \"\"\"Accessing(Traversing to a node) the node using code of that particular node\n",
    "        Creating it as a class method as to access the variables which are gloabally to keep\n",
    "        track of current object/node of the tree.\n",
    "        Parameters -> 1. cls => class \n",
    "                      2. code => code of a particular node\"\"\"\n",
    "    \n",
    "    @classmethod\n",
    "    def node_with_code(cls,code):\n",
    "        \n",
    "        ## Acessing the global variables \n",
    "        ## Otherwise newly local variable will be created (without global keyword)\n",
    "        global l\n",
    "        global current\n",
    "        \n",
    "        ## If current object is none -> means user didn't open up the website. So setting it to home.\n",
    "        if current == None:\n",
    "            current = Home\n",
    "            \n",
    "        ## Similarly with list of traversed nodes => If [] then added first node => home.\n",
    "        if l == []:\n",
    "            l.append(Home)\n",
    "            \n",
    "        ## Then traverse till the given node code. Using children of home(root) node.\n",
    "        for e in current.children:\n",
    "            ## If code matches with one of the children code then added it to traversed list.\n",
    "            if e.code == code:\n",
    "                l.append(e)\n",
    "        \n",
    "        ## Setting current object/node to the last node traversed.\n",
    "        current = l[-1]\n",
    "        \n",
    "        ## Now printing the traversed nodes till now.\n",
    "        print('-> '.join([str(e.data) for e in l]))\n",
    "        \n",
    "        \n",
    "        \n",
    "\n",
    "    \"\"\"This function is for MB command (Moving back upto a given level). So here if not any level\n",
    "        then it will be by default=1. \"\"\"\n",
    "    \n",
    "    @classmethod\n",
    "    def move_back(cls,level=1):\n",
    "        \n",
    "        ## Accessing the global variables to keep track of where my current pointer/node is.\n",
    "        global l\n",
    "        global current\n",
    "        \n",
    "        ## Conditional Check if user is entering number which is less than the traversed node it will given an error message\n",
    "        ## If correct, then using loop popping out the nodes upto the number he wants to move back.\n",
    "        \n",
    "        if level < len(l):\n",
    "            for i in range(level):\n",
    "                l.pop()\n",
    "        else:\n",
    "            print(\"Enter valid number\")\n",
    "            \n",
    "        ## Again updating the final current node/pointer to the last element traversed.\n",
    "        current = l[-1]\n",
    "        \n",
    "        ## printing the updated list of nodes he came back upto.\n",
    "        print('-> '.join([str(e.data) for e in l]))\n",
    "        \n",
    "        \n",
    "        \n",
    "        \n",
    "    \"\"\"goto function works similarly to goto command of breadcrumb tree. In this by default=1 if user didn't\n",
    "        mention upto which node he wants to go.\"\"\"\n",
    "    \n",
    "    @classmethod\n",
    "    def goto(cls,level=1):\n",
    "        \n",
    "        ## accessing the global variables to keep track of where my current pointer/node is.\n",
    "        global l\n",
    "        global current\n",
    "        \n",
    "        ## Popping the elements till user wants to go back.\n",
    "        for i in range(((len(l))-level)):\n",
    "            l.pop()\n",
    "        \n",
    "        ## Again updating our current pointer/Node upto which user traversed last.\n",
    "        current = l[-1]\n",
    "        \n",
    "        ## printing the updated list\n",
    "        print('-> '.join([str(e.data) for e in l]))\n",
    "        \n",
    "        \n"
   ]
  },
  {
   "cell_type": "markdown",
   "metadata": {},
   "source": [
    "### Creating a whole tree given as an example in the assignment "
   ]
  },
  {
   "cell_type": "code",
   "execution_count": 2,
   "metadata": {},
   "outputs": [],
   "source": [
    "## Creating nodes for a tree\n",
    "\n",
    "Home = Tree('Home','H')\n",
    "Men = Tree('Men','M')\n",
    "Women = Tree('Women','W')\n",
    "Electronics = Tree('Electronics', 'E')"
   ]
  },
  {
   "cell_type": "code",
   "execution_count": 3,
   "metadata": {},
   "outputs": [],
   "source": [
    "## Adding children to node -> here home as a parent node and Men, Women, Electronics as a children node of it.\n",
    "\n",
    "Home.add_child(Men)\n",
    "Home.add_child(Women)\n",
    "Home.add_child(Electronics)"
   ]
  },
  {
   "cell_type": "code",
   "execution_count": 4,
   "metadata": {},
   "outputs": [],
   "source": [
    "Clothing = Tree('Clothing','C')\n",
    "Footwear = Tree('Footwear','F')\n",
    "Accessories = Tree('Accessories','A')"
   ]
  },
  {
   "cell_type": "code",
   "execution_count": 5,
   "metadata": {},
   "outputs": [],
   "source": [
    "Men.add_child(Clothing)\n",
    "Men.add_child(Footwear)\n",
    "Men.add_child(Accessories)"
   ]
  },
  {
   "cell_type": "code",
   "execution_count": 6,
   "metadata": {},
   "outputs": [],
   "source": [
    "Women.add_child(Clothing)\n",
    "Women.add_child(Footwear)\n",
    "Women.add_child(Accessories)"
   ]
  },
  {
   "cell_type": "code",
   "execution_count": 7,
   "metadata": {},
   "outputs": [],
   "source": [
    "Jeans = Tree('Jeans','J')\n",
    "Trousers = Tree('Trousers','T')\n",
    "Shirts = Tree('Shirts','S')"
   ]
  },
  {
   "cell_type": "code",
   "execution_count": 8,
   "metadata": {},
   "outputs": [],
   "source": [
    "Clothing.add_child(Jeans)\n",
    "Clothing.add_child(Trousers)\n",
    "Clothing.add_child(Shirts)"
   ]
  },
  {
   "cell_type": "code",
   "execution_count": 9,
   "metadata": {},
   "outputs": [],
   "source": [
    "Slippers = Tree('Slippers','L')\n",
    "Shoes = Tree('Shoes','S')"
   ]
  },
  {
   "cell_type": "code",
   "execution_count": 10,
   "metadata": {},
   "outputs": [],
   "source": [
    "Footwear.add_child(Slippers)\n",
    "Footwear.add_child(Shoes)"
   ]
  },
  {
   "cell_type": "code",
   "execution_count": 11,
   "metadata": {},
   "outputs": [],
   "source": [
    "Formal_Shoes = Tree('Formal shoes', 'F')\n",
    "Casual_Shoes = Tree('Casual shoes', 'C')\n",
    "Sport_Shoes = Tree('Sports shoes', 'SS')"
   ]
  },
  {
   "cell_type": "code",
   "execution_count": 12,
   "metadata": {},
   "outputs": [],
   "source": [
    "Shoes.add_child(Formal_Shoes)\n",
    "Shoes.add_child(Casual_Shoes)\n",
    "Shoes.add_child(Sport_Shoes)"
   ]
  },
  {
   "cell_type": "code",
   "execution_count": 13,
   "metadata": {},
   "outputs": [],
   "source": [
    "Wallets = Tree('Wallets','w')\n",
    "Watches = Tree('Watches','T')\n",
    "Bags = Tree('Bags','B')"
   ]
  },
  {
   "cell_type": "code",
   "execution_count": 14,
   "metadata": {},
   "outputs": [],
   "source": [
    "Accessories.add_child(Wallets)\n",
    "Accessories.add_child(Watches)\n",
    "Accessories.add_child(Bags)"
   ]
  },
  {
   "cell_type": "code",
   "execution_count": 15,
   "metadata": {},
   "outputs": [],
   "source": [
    "Computers = Tree('Computers','C')\n",
    "Mobiles = Tree('Mobiles' , 'M')"
   ]
  },
  {
   "cell_type": "code",
   "execution_count": 16,
   "metadata": {},
   "outputs": [],
   "source": [
    "Electronics.add_child(Computers)\n",
    "Electronics.add_child(Mobiles)"
   ]
  },
  {
   "cell_type": "markdown",
   "metadata": {},
   "source": [
    "### Traversing the created tree using functions -> goto, move back etc."
   ]
  },
  {
   "cell_type": "code",
   "execution_count": 17,
   "metadata": {},
   "outputs": [
    {
     "name": "stdout",
     "output_type": "stream",
     "text": [
      "Home-> Men\n"
     ]
    }
   ],
   "source": [
    "## Traversing the tree with a node code.\n",
    "\n",
    "Tree.node_with_code('M')"
   ]
  },
  {
   "cell_type": "code",
   "execution_count": 18,
   "metadata": {},
   "outputs": [
    {
     "name": "stdout",
     "output_type": "stream",
     "text": [
      "Home-> Men-> Clothing\n"
     ]
    }
   ],
   "source": [
    "Tree.node_with_code('C')"
   ]
  },
  {
   "cell_type": "code",
   "execution_count": 19,
   "metadata": {},
   "outputs": [
    {
     "name": "stdout",
     "output_type": "stream",
     "text": [
      "Home-> Men\n"
     ]
    }
   ],
   "source": [
    "## Moving back to one level\n",
    "\n",
    "Tree.move_back()"
   ]
  },
  {
   "cell_type": "code",
   "execution_count": 20,
   "metadata": {},
   "outputs": [
    {
     "name": "stdout",
     "output_type": "stream",
     "text": [
      "Home-> Men-> Footwear\n"
     ]
    }
   ],
   "source": [
    "Tree.node_with_code('F')"
   ]
  },
  {
   "cell_type": "code",
   "execution_count": 21,
   "metadata": {},
   "outputs": [
    {
     "name": "stdout",
     "output_type": "stream",
     "text": [
      "Home\n"
     ]
    }
   ],
   "source": [
    "## Moving back to two level.\n",
    "\n",
    "Tree.move_back(2)"
   ]
  },
  {
   "cell_type": "code",
   "execution_count": 22,
   "metadata": {},
   "outputs": [
    {
     "name": "stdout",
     "output_type": "stream",
     "text": [
      "Enter valid number\n",
      "Home\n"
     ]
    }
   ],
   "source": [
    "Tree.move_back()"
   ]
  },
  {
   "cell_type": "code",
   "execution_count": 23,
   "metadata": {},
   "outputs": [
    {
     "name": "stdout",
     "output_type": "stream",
     "text": [
      "Home\n",
      "Home-> Men\n",
      "Home-> Men-> Footwear\n",
      "Home-> Men-> Footwear-> Shoes\n",
      "Home-> Men-> Footwear-> Shoes-> Casual shoes\n"
     ]
    }
   ],
   "source": [
    "## Traversing nodes with codes\n",
    "## Each time it is printing the traversed list of nodes.\n",
    "\n",
    "Tree.node_with_code('H')\n",
    "Tree.node_with_code('M')\n",
    "Tree.node_with_code('F')\n",
    "Tree.node_with_code('S')\n",
    "Tree.node_with_code('C')"
   ]
  },
  {
   "cell_type": "code",
   "execution_count": 24,
   "metadata": {},
   "outputs": [
    {
     "name": "stdout",
     "output_type": "stream",
     "text": [
      "Home-> Men-> Footwear\n"
     ]
    }
   ],
   "source": [
    "Tree.move_back(2)"
   ]
  },
  {
   "cell_type": "code",
   "execution_count": 25,
   "metadata": {},
   "outputs": [
    {
     "name": "stdout",
     "output_type": "stream",
     "text": [
      "Home-> Men\n"
     ]
    }
   ],
   "source": [
    "Tree.goto(2)"
   ]
  }
 ],
 "metadata": {
  "kernelspec": {
   "display_name": "Python 3",
   "language": "python",
   "name": "python3"
  },
  "language_info": {
   "codemirror_mode": {
    "name": "ipython",
    "version": 3
   },
   "file_extension": ".py",
   "mimetype": "text/x-python",
   "name": "python",
   "nbconvert_exporter": "python",
   "pygments_lexer": "ipython3",
   "version": "3.5.5"
  }
 },
 "nbformat": 4,
 "nbformat_minor": 2
}
