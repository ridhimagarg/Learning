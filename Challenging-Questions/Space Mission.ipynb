{
 "cells": [
  {
   "cell_type": "code",
   "execution_count": 1,
   "metadata": {},
   "outputs": [],
   "source": [
    "## Importing permutations module\n",
    "\n",
    "from itertools import permutations"
   ]
  },
  {
   "cell_type": "markdown",
   "metadata": {},
   "source": [
    "### Creating usable functions in order to use in our main function"
   ]
  },
  {
   "cell_type": "code",
   "execution_count": 2,
   "metadata": {},
   "outputs": [],
   "source": [
    "## Usable functions for count function\n",
    "\n",
    "\"\"\"It is calculating the permutations with the first week and all permutations possible in that range(N) so as to get\n",
    "only those elements which are matching our criteris of distance<d \"\"\"\n",
    "\n",
    "def perm_with_first(N,d,first,original):\n",
    "    \n",
    "    \n",
    "    ## Storing the permutations which are matching the criteria\n",
    "    sel_perm_f = []\n",
    "    \n",
    "    ## Iterating to the all the permutations\n",
    "    for e in original:\n",
    "        ##Iterating to each element in every permutations\n",
    "        for i in e:\n",
    "            ## Conditional check if distance is less than d for all elements in each permutation only then, will add \n",
    "            ## that permutation into the final list\n",
    "            if ((N+ (e.index(i)))- (first.index(i))) < d:\n",
    "                break \n",
    "            elif e.index(i) == (N-1):\n",
    "                 sel_perm_f.append(e)\n",
    "    return sel_perm_f\n",
    "\n",
    "\n",
    "\"\"\"It is calculating the permutations with the last week and all permutations possible in that range(N)\"\"\"\n",
    "\n",
    "def perm_with_last(N,d,original,last):   \n",
    "    \n",
    "    ## Storing the permutations which are matching the criteria\n",
    "    sel_perm_l = []\n",
    "    \n",
    "    ## Iterating to the all the permutations\n",
    "    for e in original:\n",
    "        for i in e:\n",
    "            ## Conditional check if distance is less than d for all elements in each permutation only then, will add \n",
    "            ## that permutation into the final list\n",
    "            if abs(((e.index(i))- (N + last.index(i)))) < d:\n",
    "                break \n",
    "            elif e.index(i) == (N-1):\n",
    "                #print(e)\n",
    "                sel_perm_l.append(e)\n",
    "    return sel_perm_l\n",
    " \n",
    "\n",
    "\"\"\" It is to get the pairs which are satisfying the criteria of distance between elements(shirts) for newly\n",
    "generated permutations. \"\"\"   \n",
    "\n",
    " \n",
    "def get_pairs(N,d,sel_perm_f, sel_perm_l):\n",
    "    \n",
    "    ## Storing pairs which are actually meeting the criteria of distance.\n",
    "    \n",
    "    pairs = []\n",
    "    \n",
    "    ## Iterating over selected permutations from first week and last week in order to get pairs which are satisfying their\n",
    "    ## distance criteria between same shirts.\n",
    "    \n",
    "    for e in sel_perm_f:\n",
    "        for f in sel_perm_l:\n",
    "            for i in e:\n",
    "                if abs(((e.index(i))- (N + f.index(i)))) < d:\n",
    "                    break \n",
    "                elif e.index(i) == (N-1):\n",
    "                    #print(e)\n",
    "                    pairs.append([e,f])\n",
    "    return pairs            \n",
    "\n",
    "\n",
    "## Calculating the intersection of list\n",
    "def intersection_list(a,b):\n",
    "    return list([x for x in a if x in b])\n",
    "\n",
    "\n",
    "\n",
    "\"\"\" Calculating if first and last week are meeting the criteria of distance then no need to move forward.\"\"\"\n",
    "\n",
    "def dist(N,d,fir,las):\n",
    "    for i in fir:\n",
    "            if abs(((fir.index(i))- (N + las.index(i)))) < d:\n",
    "                return False\n",
    "            elif fir.index(i) == (N-1):\n",
    "                return True"
   ]
  },
  {
   "cell_type": "markdown",
   "metadata": {},
   "source": [
    "### Creating a count(main) function"
   ]
  },
  {
   "cell_type": "code",
   "execution_count": 3,
   "metadata": {},
   "outputs": [],
   "source": [
    "\n",
    "\"\"\"defining the count function, with given first week,last week and the d value. \n",
    "    There are certain checks like for first week == last week then return 1\"\"\"\n",
    "\n",
    "def count(first_week,last_week,d):\n",
    "    \n",
    "    ## Retrieving the value of N from length of first week or last week\n",
    "    N = len(first_week)\n",
    "    \n",
    "    ## Storing the weeks with shirts order\n",
    "    weeks = []\n",
    "    \n",
    "    ## Creating the permutation in the range of N -> To use in upcoming cases.\n",
    "    \n",
    "    l = [i for i in range(1,(N+1))]\n",
    "    orig_perm = permutations(l)\n",
    "    ## Storing it as a list instead of generator as it will become empty after accessing the values.\n",
    "    \n",
    "    orig_perm = list(orig_perm)\n",
    "    \n",
    "    \n",
    "    ## Appending first week and last week into the weeks list\n",
    "    weeks.append(first_week)\n",
    "    weeks.append(last_week)\n",
    "    \n",
    "    \n",
    "    ## Checking if first week and last week are same.\n",
    "    if first_week == last_week:\n",
    "        print(\"First week and Last week are same.\")\n",
    "        print(weeks)\n",
    "        return 1\n",
    "    \n",
    "\n",
    "    \n",
    "    else:\n",
    "        \n",
    "        \n",
    "        ## Checking if first week and last week itself are sufficient to make a mission complete then ddon't proceed. Return 2.\n",
    "        ## Otherwise proceed.\n",
    "        if (dist(N,d, first_week,last_week) != True):\n",
    "        \n",
    "            ## Caclulating the permutations with first week satisfying the criteria.\n",
    "            sel_perm_f = perm_with_first(N, d, first_week , orig_perm)\n",
    "            \n",
    "            ## Caclulating the permutations with last week satisfying the criteria.\n",
    "            sel_perm_l = perm_with_last(N, d, orig_perm, last_week)\n",
    "            \n",
    "            ## IF comman values occur in both permutation generated using first week and last week then just add one more week \n",
    "            ## and return the length of the weeks.\n",
    "            \n",
    "            if intersection_list(sel_perm_f,sel_perm_l) != []:\n",
    "                #print(intersection_list(sel_perm_f,sel_perm_l))\n",
    "                weeks.insert((len(weeks)-1),list(intersection_list(sel_perm_f,sel_perm_l)[0]))\n",
    "                print(\"One possible combination is: \\n\")\n",
    "                print(weeks)\n",
    "                return len(weeks)\n",
    "            \n",
    "            ## If no common then will first find pairs.\n",
    "            else: \n",
    "                ## finding pairs\n",
    "                pairs = get_pairs(N, d, sel_perm_f, sel_perm_l)\n",
    "                \n",
    "                ## if pairs are not empty then simply returns the length because we got pairs of weeks which are satisfying\n",
    "                ## our critera of distsnce.\n",
    "                \n",
    "                if pairs != []:\n",
    "                    weeks.insert((len(weeks)-1),list(pairs[0][0]))\n",
    "                    weeks.insert((len(weeks)-1),list(pairs[0][1]))\n",
    "                    print(\"One possible combination is: \\n\")\n",
    "                    print(weeks)\n",
    "                    return len(weeks)\n",
    "                \n",
    "                ## For this case, functiom is not able to handle.\n",
    "                else:\n",
    "                    print(\"Not able to handle this case\")\n",
    "                    return 0\n",
    "                \n",
    "        ## Return 2 if first week and last week are susficient to complete the mission itself.\n",
    "        else:\n",
    "            print(\"First week and last week are sufficient to complete the mission\")\n",
    "            print(weeks)\n",
    "            return 2\n",
    "            \n",
    "            \n",
    "    "
   ]
  },
  {
   "cell_type": "markdown",
   "metadata": {},
   "source": [
    "### Executing the given examples "
   ]
  },
  {
   "cell_type": "code",
   "execution_count": 4,
   "metadata": {},
   "outputs": [
    {
     "name": "stdout",
     "output_type": "stream",
     "text": [
      "One possible combination is: \n",
      "\n",
      "[[1, 2, 3, 4], [1, 2, 4, 3], [1, 4, 3, 2], [4, 3, 2, 1]]\n",
      "4\n"
     ]
    }
   ],
   "source": [
    "print(count([1,2,3,4],[4,3,2,1],3))"
   ]
  },
  {
   "cell_type": "code",
   "execution_count": 5,
   "metadata": {},
   "outputs": [
    {
     "name": "stdout",
     "output_type": "stream",
     "text": [
      "First week and last week are sufficient to complete the mission\n",
      "[[1, 2, 3, 4], [2, 1, 3, 4]]\n",
      "2\n"
     ]
    }
   ],
   "source": [
    "print(count([1,2,3,4],[2,1,3,4],3))"
   ]
  },
  {
   "cell_type": "code",
   "execution_count": 6,
   "metadata": {},
   "outputs": [
    {
     "name": "stdout",
     "output_type": "stream",
     "text": [
      "One possible combination is: \n",
      "\n",
      "[[8, 5, 4, 1, 7, 6, 3, 2], [1, 3, 2, 4, 5, 6, 7, 8], [2, 4, 6, 8, 1, 3, 5, 7]]\n",
      "3\n"
     ]
    }
   ],
   "source": [
    "print(count([8,5,4,1,7,6,3,2],[2,4,6,8,1,3,5,7],3))"
   ]
  },
  {
   "cell_type": "code",
   "execution_count": 7,
   "metadata": {},
   "outputs": [
    {
     "name": "stdout",
     "output_type": "stream",
     "text": [
      "First week and Last week are same.\n",
      "[[1, 2, 3, 4], [1, 2, 3, 4]]\n",
      "1\n"
     ]
    }
   ],
   "source": [
    "print(count([1,2,3,4],[1,2,3,4],2))"
   ]
  }
 ],
 "metadata": {
  "kernelspec": {
   "display_name": "Python 3",
   "language": "python",
   "name": "python3"
  },
  "language_info": {
   "codemirror_mode": {
    "name": "ipython",
    "version": 3
   },
   "file_extension": ".py",
   "mimetype": "text/x-python",
   "name": "python",
   "nbconvert_exporter": "python",
   "pygments_lexer": "ipython3",
   "version": "3.5.5"
  }
 },
 "nbformat": 4,
 "nbformat_minor": 2
}
